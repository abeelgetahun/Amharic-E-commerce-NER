{
 "cells": [
  {
   "cell_type": "markdown",
   "id": "12af058c",
   "metadata": {},
   "source": [
    "# Fine-Tuning NER Model for Amharic Text\n",
    "\n",
    "## Overview\n",
    "This notebook demonstrates how to fine-tune a Named Entity Recognition (NER) model specifically for Amharic text using the XLM-RoBERTa transformer model. The project focuses on identifying entities like products, prices, and locations in Amharic commercial text.\n",
    "\n",
    "## Key Features\n",
    "- Data preprocessing for CoNLL format\n",
    "- Token alignment for transformer models\n",
    "- Fine-tuning XLM-RoBERTa for multilingual NER\n",
    "- Comprehensive evaluation metrics\n",
    "- Model persistence and inference capabilities"
   ]
  },
  {
   "cell_type": "markdown",
   "id": "13bf159d",
   "metadata": {},
   "source": [
    "## 1. Environment Setup and Library Installation\n",
    "\n",
    "Installing all required dependencies for the NER fine-tuning process."
   ]
  },
  {
   "cell_type": "code",
   "execution_count": null,
   "id": "14cf260e",
   "metadata": {},
   "outputs": [],
   "source": [
    "# Install Required Libraries\n",
    "!pip install transformers datasets torch accelerate evaluate seqeval\n",
    "!pip install huggingface_hub --upgrade"
   ]
  },
  {
   "cell_type": "markdown",
   "id": "15dg361f",
   "metadata": {},
   "source": [
    "## 2. Import Dependencies\n",
    "\n",
    "Importing all necessary libraries for data processing, model training, and evaluation."
   ]
  },
  {
   "cell_type": "code",
   "execution_count": null,
   "id": "16eh472g",
   "metadata": {},
   "outputs": [],
   "source": [
    "import pandas as pd\n",
    "import numpy as np\n",
    "import torch\n",
    "from transformers import (\n",
    "    AutoTokenizer, \n",
    "    AutoModelForTokenClassification,\n",
    "    TrainingArguments, \n",
    "    Trainer,\n",
    "    DataCollatorForTokenClassification\n",
    ")\n",
    "from datasets import Dataset, DatasetDict\n",
    "from sklearn.model_selection import train_test_split\n",
    "import json\n",
    "from datetime import datetime\n",
    "import re\n",
    "from seqeval.metrics import accuracy_score, precision_score, recall_score, f1_score\n",
    "from google.colab import drive, files\n",
    "import io"
   ]
  },
  {
   "cell_type": "markdown",
   "id": "17fi583h",
   "metadata": {},
   "source": [
    "## 3. Google Drive Integration\n",
    "\n",
    "Mounting Google Drive to access training data and save model artifacts."
   ]
  },
  {
   "cell_type": "code",
   "execution_count": null,
   "id": "18gj694i",
   "metadata": {},
   "outputs": [],
   "source": [
    "# Mount Google Drive to access your data\n",
    "drive.mount('/content/drive')"
   ]
  },
  {
   "cell_type": "markdown",
   "id": "19hk705j",
   "metadata": {},
   "source": [
    "## 4. Data Loading and Preprocessing Functions\n",
    "\n",
    "Defining utility functions to load CoNLL format data and convert it into a structured format suitable for transformer models."
   ]
  },
  {
   "cell_type": "code",
   "execution_count": null,
   "id": "20il816k",
   "metadata": {},
   "outputs": [],
   "source": [
    "def load_conll_data(file_path):\n",
    "    \"\"\"Load CoNLL format data and convert to structured format\"\"\"\n",
    "    sentences = []\n",
    "    labels = []\n",
    "    \n",
    "    current_sentence = []\n",
    "    current_labels = []\n",
    "    \n",
    "    with open(file_path, 'r', encoding='utf-8') as file:\n",
    "        for line in file:\n",
    "            line = line.strip()\n",
    "            if line == \"\":  # Empty line indicates sentence boundary\n",
    "                if current_sentence:\n",
    "                    sentences.append(current_sentence)\n",
    "                    labels.append(current_labels)\n",
    "                    current_sentence = []\n",
    "                    current_labels = []\n",
    "            else:\n",
    "                parts = line.split('\\t')\n",
    "                if len(parts) >= 2:\n",
    "                    token = parts[0]\n",
    "                    label = parts[1]\n",
    "                    current_sentence.append(token)\n",
    "                    current_labels.append(label)\n",
    "    \n",
    "    # Add the last sentence if it doesn't end with empty line\n",
    "    if current_sentence:\n",
    "        sentences.append(current_sentence)\n",
    "        labels.append(current_labels)\n",
    "    \n",
    "    return sentences, labels"
   ]
  },
  {
   "cell_type": "markdown",
   "id": "21jm927l",
   "metadata": {},
   "source": [
    "## 5. Sample Data Generation\n",
    "\n",
    "Creating sample CoNLL format data for demonstration purposes with Amharic text and entity labels."
   ]
  },
  {
   "cell_type": "code",
   "execution_count": null,
   "id": "22kn038m",
   "metadata": {},
   "outputs": [],
   "source": [
    "def create_sample_conll_data():\n",
    "    \"\"\"Create sample CoNLL data for demonstration\"\"\"\n",
    "    sample_data = \"\"\"LIFESTAR\tB-PRODUCT\n",
    "1\tI-PRODUCT\n",
    "Million\tI-PRODUCT\n",
    "4K\tI-PRODUCT\n",
    "Android\tI-PRODUCT\n",
    "ሪሲቨር\tI-PRODUCT\n",
    "ዋጋ\tB-PRICE\n",
    "7000\tI-PRICE\n",
    "ብር\tI-PRICE\n",
    "ነው\tO\n",
    ".\tO\n",
    "\n",
    "MAGIC\tB-PRODUCT\n",
    "REMOTE\tI-PRODUCT\n",
    "በ\tO\n",
    "ማራኪ\tB-LOC\n",
    "ሳት\tI-LOC\n",
    "አለ\tO\n",
    ".\tO\n",
    "\n",
    "የመኪና\tB-PRODUCT\n",
    "ANDROID\tI-PRODUCT\n",
    "SCREEN\tI-PRODUCT\n",
    "በጥራት\tO\n",
    "ዋጋ\tB-PRICE\n",
    "በግማሽ\tI-PRICE\n",
    "የቀነሰ\tI-PRICE\n",
    ".\tO\n",
    "\n",
    "Xcruiser\tB-PRODUCT\n",
    "Magic\tI-PRODUCT\n",
    "Box\tI-PRODUCT\n",
    "መርካቶ\tB-LOC\n",
    "አንዋር\tI-LOC\n",
    "መስጂድ\tI-LOC\n",
    "ጎንደር\tI-LOC\n",
    "ውስጥ\tO\n",
    ".\tO\"\"\"\n",
    "    \n",
    "    # Save sample data to file\n",
    "    with open('/content/sample_conll_data.txt', 'w', encoding='utf-8') as f:\n",
    "        f.write(sample_data)\n",
    "    \n",
    "    return '/content/sample_conll_data.txt'"
   ]
  },
  {
   "cell_type": "markdown",
   "id": "23lo149n",
   "metadata": {},
   "source": [
    "## 6. Data Upload and Loading\n",
    "\n",
    "Uploading the CoNLL format training data and loading it into memory for processing."
   ]
  },
  {
   "cell_type": "code",
   "execution_count": null,
   "id": "24mp250o",
   "metadata": {},
   "outputs": [],
   "source": [
    "# Upload your CoNLL data file\n",
    "print(\"Please upload your CoNLL format labeled data file:\")\n",
    "uploaded = files.upload()\n",
    "conll_file_path = list(uploaded.keys())[0] if uploaded else create_sample_conll_data()\n",
    "\n",
    "# Load the data\n",
    "sentences, labels = load_conll_data(conll_file_path)\n",
    "print(f\"Loaded {len(sentences)} sentences\")\n",
    "print(f\"Sample sentence: {sentences[0]}\")\n",
    "print(f\"Sample labels: {labels[0]}\")"
   ]
  },
  {
   "cell_type": "markdown",
   "id": "25nq361p",
   "metadata": {},
   "source": [
    "## 7. Label Mapping Creation\n",
    "\n",
    "Creating bidirectional mappings between entity labels and their corresponding IDs for model training."
   ]
  },
  {
   "cell_type": "code",
   "execution_count": null,
   "id": "26or472q",
   "metadata": {},
   "outputs": [],
   "source": [
    "# Create label mappings\n",
    "unique_labels = set()\n",
    "for label_seq in labels:\n",
    "    unique_labels.update(label_seq)\n",
    "\n",
    "label_list = sorted(list(unique_labels))\n",
    "label_to_id = {label: i for i, label in enumerate(label_list)}\n",
    "id_to_label = {i: label for i, label in enumerate(label_list)}\n",
    "\n",
    "print(f\"Unique labels: {label_list}\")\n",
    "print(f\"Number of labels: {len(label_list)}\")"
   ]
  },
  {
   "cell_type": "markdown",
   "id": "27ps583r",
   "metadata": {},
   "source": [
    "## 8. Tokenization and Label Alignment\n",
    "\n",
    "Implementing the crucial tokenization function that aligns entity labels with subword tokens generated by the transformer tokenizer."
   ]
  },
  {
   "cell_type": "code",
   "execution_count": null,
   "id": "28qt694s",
   "metadata": {},
   "outputs": [],
   "source": [
    "def tokenize_and_align_labels(examples, tokenizer, label_to_id):\n",
    "    tokenized_inputs = tokenizer(\n",
    "        examples[\"tokens\"], \n",
    "        truncation=True, \n",
    "        is_split_into_words=True,\n",
    "        padding=False\n",
    "    )\n",
    "    \n",
    "    labels = []\n",
    "    for i, label in enumerate(examples[\"labels\"]):\n",
    "        word_ids = tokenized_inputs.word_ids(batch_index=i)\n",
    "        previous_word_idx = None\n",
    "        label_ids = []\n",
    "        for word_idx in word_ids:\n",
    "            if word_idx is None:\n",
    "                label_ids.append(-100)\n",
    "            elif word_idx != previous_word_idx:\n",
    "                label_ids.append(label_to_id[label[word_idx]])\n",
    "            else:\n",
    "                label_ids.append(-100)\n",
    "            previous_word_idx = word_idx\n",
    "        labels.append(label_ids)\n",
    "    \n",
    "    tokenized_inputs[\"labels\"] = labels\n",
    "    return tokenized_inputs"
   ]
  },
  {
   "cell_type": "markdown",
   "id": "29ru705t",
   "metadata": {},
   "source": [
    "## 9. Dataset Preparation and Splitting\n",
    "\n",
    "Preparing the dataset by splitting it into training, validation, and test sets for robust model evaluation."
   ]
  },
  {
   "cell_type": "code",
   "execution_count": null,
   "id": "30sv816u",
   "metadata": {},
   "outputs": [],
   "source": [
    "# Prepare Dataset\n",
    "df = pd.DataFrame({\n",
    "    'tokens': sentences,\n",
    "    'labels': labels\n",
    "})\n",
    "\n",
    "# Split the data\n",
    "train_df, test_df = train_test_split(df, test_size=0.2, random_state=42)\n",
    "train_df, val_df = train_test_split(train_df, test_size=0.25, random_state=42)\n",
    "\n",
    "print(f\"Train: {len(train_df)}, Validation: {len(val_df)}, Test: {len(test_df)}\")\n",
    "\n",
    "# Convert to Hugging Face datasets\n",
    "train_dataset = Dataset.from_pandas(train_df)\n",
    "val_dataset = Dataset.from_pandas(val_df)\n",
    "test_dataset = Dataset.from_pandas(test_df)"
   ]
  },
  {
   "cell_type": "markdown",
   "id": "31tw927v",
   "metadata": {},
   "source": [
    "## 10. Model and Tokenizer Initialization\n",
    "\n",
    "Loading the pre-trained XLM-RoBERTa model and tokenizer, configured for token classification with our specific entity labels."
   ]
  },
  {
   "cell_type": "code",
   "execution_count": null,
   "id": "32ux038w",
   "metadata": {},
   "outputs": [],
   "source": [
    "# Model Setup\n",
    "MODEL_NAME = \"xlm-roberta-base\"  # You can also try \"bert-base-multilingual-cased\"\n",
    "\n",
    "tokenizer = AutoTokenizer.from_pretrained(MODEL_NAME)\n",
    "model = AutoModelForTokenClassification.from_pretrained(\n",
    "    MODEL_NAME, \n",
    "    num_labels=len(label_list),\n",
    "    id2label=id_to_label,\n",
    "    label2id=label_to_id\n",
    ")"
   ]
  },
  {
   "cell_type": "markdown",
   "id": "33vy149x",
   "metadata": {},
   "source": [
    "## 11. Dataset Tokenization\n",
    "\n",
    "Applying tokenization and label alignment to all dataset splits for model training compatibility."
   ]
  },
  {
   "cell_type": "code",
   "execution_count": null,
   "id": "34wz250y",
   "metadata": {},
   "outputs": [],
   "source": [
    "# Tokenize datasets\n",
    "train_tokenized = train_dataset.map(\n",
    "    lambda x: tokenize_and_align_labels(x, tokenizer, label_to_id),\n",
    "    batched=True\n",
    ")\n",
    "val_tokenized = val_dataset.map(\n",
    "    lambda x: tokenize_and_align_labels(x, tokenizer, label_to_id),\n",
    "    batched=True\n",
    ")\n",
    "test_tokenized = test_dataset.map(\n",
    "    lambda x: tokenize_and_align_labels(x, tokenizer, label_to_id),\n",
    "    batched=True\n",
    ")"
   ]
  },
  {
   "cell_type": "markdown",
   "id": "35xa361z",
   "metadata": {},
   "source": [
    "## 12. Data Collator Setup\n",
    "\n",
    "Configuring the data collator for dynamic padding and batch preparation during training."
   ]
  },
  {
   "cell_type": "code",
   "execution_count": null,
   "id": "36yb472a",
   "metadata": {},
   "outputs": [],
   "source": [
    "# Data Collator\n",
    "data_collator = DataCollatorForTokenClassification(\n",
    "    tokenizer=tokenizer, \n",
    "    padding=True\n",
    ")"
   ]
  },
  {
   "cell_type": "markdown",
   "id": "37zc583b",
   "metadata": {},
   "source": [
    "## 13. Evaluation Metrics Configuration\n",
    "\n",
    "Defining comprehensive evaluation metrics including precision, recall, F1-score, and accuracy using seqeval for proper sequence evaluation."
   ]
  },
  {
   "cell_type": "code",
   "execution_count": null,
   "id": "38ad694c",
   "metadata": {},
   "outputs": [],
   "source": [
    "def compute_metrics(p):\n",
    "    predictions, labels = p\n",
    "    predictions = np.argmax(predictions, axis=2)\n",
    "    \n",
    "    true_predictions = [\n",
    "        [id_to_label[p] for (p, l) in zip(prediction, label) if l != -100]\n",
    "        for prediction, label in zip(predictions, labels)\n",
    "    ]\n",
    "    true_labels = [\n",
    "        [id_to_label[l] for (p, l) in zip(prediction, label) if l != -100]\n",
    "        for prediction, label in zip(predictions, labels)\n",
    "    ]\n",
    "    \n",
    "    results = {\n",
    "        \"precision\": precision_score(true_labels, true_predictions),\n",
    "        \"recall\": recall_score(true_labels, true_predictions),\n",
    "        \"f1\": f1_score(true_labels, true_predictions),\n",
    "        \"accuracy\": accuracy_score(true_labels, true_predictions),\n",
    "    }\n",
    "    return results"
   ]
  },
  {
   "cell_type": "markdown",
   "id": "39be705d",
   "metadata": {},
   "source": [
    "## 14. Training Configuration\n",
    "\n",
    "Setting up comprehensive training arguments including learning rate, batch sizes, evaluation strategy, and model saving parameters."
   ]
  },
  {
   "cell_type": "code",
   "execution_count": null,
   "id": "40cf816e",
   "metadata": {},
   "outputs": [],
   "source": [
    "# Training Arguments\n",
    "training_args = TrainingArguments(\n",
    "    output_dir=\"./results\",\n",
    "    learning_rate=2e-5,\n",
    "    per_device_train_batch_size=16,\n",
    "    per_device_eval_batch_size=16,\n",
    "    num_train_epochs=3,\n",
    "    weight_decay=0.01,\n",
    "    evaluation_strategy=\"epoch\",\n",
    "    save_strategy=\"epoch\",\n",
    "    logging_dir='./logs',\n",
    "    logging_steps=10,\n",
    "    load_best_model_at_end=True,\n",
    "    metric_for_best_model=\"f1\",\n",
    "    greater_is_better=True,\n",
    "    save_total_limit=2,\n",
    "    report_to=None,  # Disable wandb logging\n",
    "    dataloader_pin_memory=False,\n",
    ")"
   ]
  },
  {
   "cell_type": "markdown",
   "id": "41dg927f",
   "metadata": {},
   "source": [
    "## 15. Trainer Initialization\n",
    "\n",
    "Initializing the Hugging Face Trainer with our model, datasets, and configuration parameters."
   ]
  },
  {
   "cell_type": "code",
   "execution_count": null,
   "id": "42eh038g",
   "metadata": {},
   "outputs": [],
   "source": [
    "# Trainer Setup\n",
    "trainer = Trainer(\n",
    "    model=model,\n",
    "    args=training_args,\n",
    "    train_dataset=train_tokenized,\n",
    "    eval_dataset=val_tokenized,\n",
    "    tokenizer=tokenizer,\n",
    "    data_collator=data_collator,\n",
    "    compute_metrics=compute_metrics,\n",
    ")"
   ]
  },
  {
   "cell_type": "markdown",
   "id": "43fi149h",
   "metadata": {},
   "source": [
    "## 16. Model Training\n",
    "\n",
    "Starting the fine-tuning process. This cell will train the model for the specified number of epochs with automatic evaluation and checkpointing."
   ]
  },
  {
   "cell_type": "code",
   "execution_count": null,
   "id": "44gj250i",
   "metadata": {},
   "outputs": [],
   "source": [
    "# Train the Model\n",
    "print(\"Starting training...\")\n",
    "trainer.train()"
   ]
  },
  {
   "cell_type": "markdown",
   "id": "45hk361j",
   "metadata": {},
   "source": [
    "## 17. Model Evaluation\n",
    "\n",
    "Evaluating the trained model on the held-out test set to assess final performance metrics."
   ]
  },
  {
   "cell_type": "code",
   "execution_count": null,
   "id": "46il472k",
   "metadata": {},
   "outputs": [],
   "source": [
    "# Evaluate on Test Set\n",
    "test_results = trainer.evaluate(test_tokenized)\n",
    "print(f\"Test Results: {test_results}\")"
   ]
  },
  {
   "cell_type": "markdown",
   "id": "47jm583l",
   "metadata": {},
   "source": [
    "## 18. Model Persistence\n",
    "\n",
    "Saving the fine-tuned model and tokenizer for future use and deployment."
   ]
  },
  {
   "cell_type": "code",
   "execution_count": null,
   "id": "48kn694m",
   "metadata": {},
   "outputs": [],
   "source": [
    "# Save the Model\n",
    "model.save_pretrained(\"./xlm-roberta-amharic-ner\")\n",
    "tokenizer.save_pretrained(\"./xlm-roberta-amharic-ner\")\n",
    "\n",
    "print(\"Model saved successfully!\")"
   ]
  },
  {
   "cell_type": "markdown",
   "id": "49lo705n",
   "metadata": {},
   "source": [
    "## 19. Inference Function Implementation\n",
    "\n",
    "Implementing a utility function for making predictions on new text using the trained model."
   ]
  },
  {
   "cell_type": "code",
   "execution_count": null,
   "id": "50mp816o",
   "metadata": {},
   "outputs": [],
   "source": [
    "def predict_entities(text, model, tokenizer, id_to_label):\n",
    "    tokens = text.split()\n",
    "    inputs = tokenizer(tokens, truncation=True, is_split_into_words=True, return_tensors=\"pt\")\n",
    "    \n",
    "    with torch.no_grad():\n",
    "        outputs = model(**inputs)\n",
    "    \n",
    "    predictions = torch.argmax(outputs.logits, dim=2)\n",
    "    \n",
    "    word_ids = inputs.word_ids()\n",
    "    previous_word_idx = None\n",
    "    predicted_labels = []\n",
    "    \n",
    "    for i, word_idx in enumerate(word_ids):\n",
    "        if word_idx is not None and word_idx != previous_word_idx:\n",
    "            predicted_labels.append(id_to_label[predictions[0][i].item()])\n",
    "        previous_word_idx = word_idx\n",
    "    \n",
    "    return list(zip(tokens, predicted_labels))"
   ]
  },
  {
   "cell_type": "markdown",
   "id": "51nq927p",
   "metadata": {},
   "source": [
    "## 20. Model Testing and Demonstration\n",
    "\n",
    "Testing the trained model with sample Amharic text to demonstrate entity recognition capabilities."
   ]
  },
  {
   "cell_type": "code",
   "execution_count": null,
   "id": "52or038q",
   "metadata": {},
   "outputs": [],
   "source": [
    "# Test the Model\n",
    "test_text = \"LIFESTAR 1 Million 4K Android ሪሲቨር ዋጋ 7000 ብር መርካቶ ውስጥ አለ\"\n",
    "predictions = predict_entities(test_text, model, tokenizer, id_to_label)\n",
    "print(f\"Test text: {test_text}\")\n",
    "print(f\"Predictions: {predictions}\")"
   ]
  },
  {
   "cell_type": "markdown",
   "id": "53ps149r",
   "metadata": {},
   "source": [
    "## Conclusion\n",
    "\n",
    "This notebook successfully demonstrates the complete pipeline for fine-tuning a multilingual transformer model for Amharic NER tasks. The model can now identify:\n",
    "\n",
    "- **Products**: Electronic devices and commercial items\n",
    "- **Prices**: Monetary values and currency information  \n",
    "- **Locations**: Geographic places and addresses\n",
    "\n",
    "The fine-tuned model is ready for deployment and can be further improved with additional training data or hyperparameter optimization."
   ]
  }
 ],
 "metadata": {
  "kernelspec": {
   "display_name": "Python 3",
   "language": "python",
   "name": "python3"
  },
  "language_info": {
   "codemirror_mode": {
    "name": "ipython",
    "version": 3
   },
   "file_extension": ".py",
   "mimetype": "text/x-python",
   "name": "python",
   "nbconvert_exporter": "python",
   "pygments_lexer": "ipython3",
   "version": "3.8.5"
  }
 },
 "nbformat": 4,
 "nbformat_minor": 5
}